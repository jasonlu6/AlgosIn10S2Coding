{
 "cells": [
  {
   "cell_type": "markdown",
   "metadata": {},
   "source": [
    "# Python Selenium Crawler for S2 E10 Apriori NP Completeness"
   ]
  },
  {
   "cell_type": "markdown",
   "metadata": {},
   "source": [
    "Selenium with Java bonus, for ‘processing’ some clustering nodes, and Python as well, for some cool webdriver applications / system programming on a localhost website (my personal website, well part of it). That will be separate from the notebook. "
   ]
  },
  {
   "cell_type": "code",
   "execution_count": 1,
   "metadata": {},
   "outputs": [
    {
     "name": "stdout",
     "output_type": "stream",
     "text": [
      "Requirement already satisfied: selenium in /usr/local/Cellar/jupyterlab/2.2.9_1/libexec/lib/python3.9/site-packages (4.0.0)\n",
      "Requirement already satisfied: trio-websocket~=0.9 in /usr/local/Cellar/jupyterlab/2.2.9_1/libexec/lib/python3.9/site-packages (from selenium) (0.9.2)\n",
      "Requirement already satisfied: trio~=0.17 in /usr/local/Cellar/jupyterlab/2.2.9_1/libexec/lib/python3.9/site-packages (from selenium) (0.19.0)\n",
      "Requirement already satisfied: urllib3[secure]~=1.26 in /usr/local/Cellar/jupyterlab/2.2.9_1/libexec/lib/python3.9/site-packages (from selenium) (1.26.7)\n",
      "Requirement already satisfied: sniffio in /usr/local/Cellar/jupyterlab/2.2.9_1/libexec/lib/python3.9/site-packages (from trio~=0.17->selenium) (1.2.0)\n",
      "Requirement already satisfied: idna in /usr/local/Cellar/jupyterlab/2.2.9_1/libexec/lib/python3.9/site-packages (from trio~=0.17->selenium) (2.10)\n",
      "Requirement already satisfied: outcome in /usr/local/Cellar/jupyterlab/2.2.9_1/libexec/lib/python3.9/site-packages (from trio~=0.17->selenium) (1.1.0)\n",
      "Requirement already satisfied: async-generator>=1.9 in /usr/local/Cellar/jupyterlab/2.2.9_1/libexec/lib/python3.9/site-packages (from trio~=0.17->selenium) (1.10)\n",
      "Requirement already satisfied: sortedcontainers in /usr/local/Cellar/jupyterlab/2.2.9_1/libexec/lib/python3.9/site-packages (from trio~=0.17->selenium) (2.4.0)\n",
      "Requirement already satisfied: attrs>=19.2.0 in /usr/local/Cellar/jupyterlab/2.2.9_1/libexec/lib/python3.9/site-packages (from trio~=0.17->selenium) (20.2.0)\n",
      "Requirement already satisfied: wsproto>=0.14 in /usr/local/Cellar/jupyterlab/2.2.9_1/libexec/lib/python3.9/site-packages (from trio-websocket~=0.9->selenium) (1.0.0)\n",
      "Requirement already satisfied: certifi in /usr/local/Cellar/jupyterlab/2.2.9_1/libexec/lib/python3.9/site-packages (from urllib3[secure]~=1.26->selenium) (2020.6.20)\n",
      "Requirement already satisfied: pyOpenSSL>=0.14 in /usr/local/Cellar/jupyterlab/2.2.9_1/libexec/lib/python3.9/site-packages (from urllib3[secure]~=1.26->selenium) (21.0.0)\n",
      "Requirement already satisfied: cryptography>=1.3.4 in /usr/local/Cellar/jupyterlab/2.2.9_1/libexec/lib/python3.9/site-packages (from urllib3[secure]~=1.26->selenium) (36.0.0)\n",
      "Requirement already satisfied: cffi>=1.12 in /usr/local/Cellar/jupyterlab/2.2.9_1/libexec/lib/python3.9/site-packages (from cryptography>=1.3.4->urllib3[secure]~=1.26->selenium) (1.14.3)\n",
      "Requirement already satisfied: pycparser in /usr/local/Cellar/jupyterlab/2.2.9_1/libexec/lib/python3.9/site-packages (from cffi>=1.12->cryptography>=1.3.4->urllib3[secure]~=1.26->selenium) (2.20)\n",
      "Requirement already satisfied: six>=1.5.2 in /usr/local/Cellar/jupyterlab/2.2.9_1/libexec/lib/python3.9/site-packages (from pyOpenSSL>=0.14->urllib3[secure]~=1.26->selenium) (1.15.0)\n",
      "Requirement already satisfied: h11<1,>=0.9.0 in /usr/local/Cellar/jupyterlab/2.2.9_1/libexec/lib/python3.9/site-packages (from wsproto>=0.14->trio-websocket~=0.9->selenium) (0.12.0)\n",
      "\u001b[33mWARNING: You are using pip version 20.3.3; however, version 21.3.1 is available.\n",
      "You should consider upgrading via the '/usr/local/Cellar/jupyterlab/2.2.9_1/libexec/bin/python -m pip install --upgrade pip' command.\u001b[0m\n"
     ]
    }
   ],
   "source": [
    "import sys \n",
    "!{sys.executable} -m pip install selenium"
   ]
  },
  {
   "cell_type": "code",
   "execution_count": 2,
   "metadata": {},
   "outputs": [
    {
     "data": {
      "text/plain": [
       "'/usr/local/Cellar/jupyterlab/2.2.9_1/libexec/bin'"
      ]
     },
     "execution_count": 2,
     "metadata": {},
     "output_type": "execute_result"
    }
   ],
   "source": [
    "import os\n",
    "import sys\n",
    "os.path.dirname(sys.executable)"
   ]
  },
  {
   "cell_type": "code",
   "execution_count": 4,
   "metadata": {},
   "outputs": [],
   "source": [
    "from time import sleep\n",
    "from selenium import webdriver\n",
    "# this is tested on Firefox or you can use \"webdriver.Chrome()\"\n",
    "# browser = webdriver.Firefox()\n",
    "browser = webdriver.Chrome()\n",
    "browser.get('https://www.google.com/')\n",
    "sleep(10)\n",
    "browser.close()"
   ]
  },
  {
   "cell_type": "markdown",
   "metadata": {},
   "source": [
    "#### Now, we apply proper web crawling techniques using Beautiful Soup and Requests. \n",
    "\n",
    "HTML review: An HTTP Request is where we PUT a request to the server. An HTTP response is where GET a response from the server. Do not mix up the two! (bit of a web dev flex, but that was one of my intern roles from BU/NEU, and learned a lot about server technology there). "
   ]
  },
  {
   "cell_type": "code",
   "execution_count": 5,
   "metadata": {},
   "outputs": [
    {
     "name": "stdout",
     "output_type": "stream",
     "text": [
      "Requirement already satisfied: bs4 in /usr/local/Cellar/jupyterlab/2.2.9_1/libexec/lib/python3.9/site-packages (0.0.1)\n",
      "Requirement already satisfied: beautifulsoup4 in /usr/local/Cellar/jupyterlab/2.2.9_1/libexec/lib/python3.9/site-packages (from bs4) (4.10.0)\n",
      "Requirement already satisfied: soupsieve>1.2 in /usr/local/Cellar/jupyterlab/2.2.9_1/libexec/lib/python3.9/site-packages (from beautifulsoup4->bs4) (2.3.1)\n",
      "\u001b[33mWARNING: You are using pip version 20.3.3; however, version 21.3.1 is available.\n",
      "You should consider upgrading via the '/usr/local/Cellar/jupyterlab/2.2.9_1/libexec/bin/python -m pip install --upgrade pip' command.\u001b[0m\n"
     ]
    }
   ],
   "source": [
    "# Import beautiful soup here. \n",
    "!{sys.executable} -m pip install bs4"
   ]
  },
  {
   "cell_type": "code",
   "execution_count": 6,
   "metadata": {
    "scrolled": true
   },
   "outputs": [
    {
     "name": "stderr",
     "output_type": "stream",
     "text": [
      "/usr/local/Cellar/jupyterlab/2.2.9_1/libexec/lib/python3.9/site-packages/requests/__init__.py:89: RequestsDependencyWarning: urllib3 (1.26.7) or chardet (3.0.4) doesn't match a supported version!\n",
      "  warnings.warn(\"urllib3 ({}) or chardet ({}) doesn't match a supported \"\n"
     ]
    },
    {
     "name": "stdout",
     "output_type": "stream",
     "text": [
      "\n",
      " Result: \n",
      "\n",
      "{'Name': 'Holiday Inn Express & Suites Lexington Park-California, an IHG Hotel', 'Title': 'Holiday Inn Express & Suites Lexington Park-California, an IHG Hotel2.5 out of 5', 'About': 'Along with an indoor pool, this hotel has a 24-hour fitness center and a snack bar/deli. Free continental breakfast, free WiFi in public areas, and free self parking are also provided. Additionally, a business center, conference space, and dry cleaning are onsite.  All 100 rooms provide free WiFi and free wired Internet, LED TVs with satellite channels, and conveniences like refrigerators and microwaves. Other amenities available to guests include coffee makers, free weekday newspapers, and hair dryers. ', 'Address': '45260 Abell House Lane, California, MD, 20619'}\n",
      "\n",
      " Result: \n",
      "\n",
      "{'Name': 'Country Inn & Suites by Radisson, Lexington Park (Patuxent River Naval Air Station), MD', 'Title': 'Country Inn & Suites by Radisson, Lexington Park (Patuxent River Naval Air Station), MD2.5 out of 5', 'About': 'A restaurant, an indoor pool, and a fitness center are available at this smoke-free hotel. Free buffet breakfast, free WiFi in public areas, and free self parking are also provided. Other amenities include a snack bar/deli, coffee/tea in a common area, and a business center.  All 88 rooms offer free WiFi and free wired Internet, plus coffee makers and flat-screen TVs with cable channels. Free newspapers, free local calls, and hair dryers are among the other amenities that guests will find. ', 'Address': '44941 Worth Ave, California, MD, 20619'}\n",
      "\n",
      " Result: \n",
      "\n",
      "{'Name': 'La Quinta Inn & Suites by Wyndham Lexington Park - Patuxent', 'Title': 'La Quinta Inn & Suites by Wyndham Lexington Park - Patuxent2.5 out of 5', 'About': 'Along with a 24-hour fitness center, this smoke-free hotel has coffee/tea in a common area and a seasonal outdoor pool. Free continental breakfast, free WiFi in public areas, and free self parking are also provided. Additionally, a business center, a meeting room, and laundry facilities are onsite.  All 100 rooms provide free WiFi and free wired Internet, flat-screen TVs with cable channels, and conveniences like refrigerators and microwaves. Premium bedding, coffee makers, and free local calls are among the other amenities available to guests. ', 'Address': '22769 Three Notch Rd, California, MD, 20619'}\n"
     ]
    }
   ],
   "source": [
    "# Source: https://www.bestproxyreviews.com/expedia-scraper/\n",
    "\n",
    "import requests\n",
    "from bs4 import BeautifulSoup\n",
    "\n",
    "class ExpeHotelScraper:\n",
    "\n",
    "    # Intiialize the web crawler. \n",
    "    def __init__(self, url):\n",
    "        self.url = url\n",
    "        self.download_page()\n",
    "    \n",
    "    # Get information for downloading hotel page. \n",
    "    def download_page(self):\n",
    "        self.page = requests.get(self.url).text\n",
    "\n",
    "    # Method for scraping data for hotel name, address, title, about, etc. \n",
    "    def scrape_data(self):\n",
    "        soup = BeautifulSoup(self.page, \"html.parser\")\n",
    "        hotel_name = soup.find(\"h1\", {\"class\": \"uitk-heading-3\"}).text\n",
    "        hotel_title = soup.find(\"div\", {\"data-stid\": \"content-hotel-title\"}).text\n",
    "        hotel_address = soup.find(\"div\", {\"data-stid\": \"content-hotel-address\"}).text\n",
    "        hotel_about = soup.find(\"div\", {\"data-stid\": \"content-markup\"}).text\n",
    "        # Return JSON object here, as an OOP return value. Hint: Factory design pattern here!  \n",
    "        return {\"Name\": hotel_name, \n",
    "                \"Title\": hotel_title,\n",
    "                \"About\": hotel_about,\n",
    "                \"Address\": hotel_address\n",
    "               }\n",
    "\n",
    "# URLs to web scrape. \n",
    "urls = [\"https://www.expedia.com/California-Hotels-Holiday-Inn-Express-Suites-Lexington-Park-California.h9741955.Hotel-Information?chkin=2021-10-17&chkout=2021-10-18&x_pwa=1&rfrr=HSR&pwa_ts=1633296934579&referrerUrl=aHR0cHM6Ly93d3cuZXhwZWRpYS5jb20vSG90ZWwtU2VhcmNo&useRewards=false&rm1=a2&regionId=85533&destination=California%2C+Maryland%2C+United+States+of+America&destType=MARKET&sort=RECOMMENDED&top_dp=123&top_cur=USD&semdtl=&userIntent=&selectedRoomType=201330831&selectedRatePlan=380921932\",\n",
    "       \"https://www.expedia.com/California-Hotels-Country-Inn-Suites-By-Radisson.h2862204.Hotel-Information?chkin=2021-11-29&chkout=2021-11-30&x_pwa=1&rfrr=HSR&pwa_ts=1637631016710&referrerUrl=aHR0cHM6Ly93d3cuZXhwZWRpYS5jb20vSG90ZWwtU2VhcmNo&useRewards=false&rm1=a2&regionId=85533&destination=California%2C+Maryland%2C+United+States+of+America&destType=MARKET&sort=RECOMMENDED&top_dp=97&top_cur=USD&semdtl=&userIntent=&selectedRoomType=200173655&selectedRatePlan=244275853\",\n",
    "       \"https://www.expedia.com/California-Hotels-La-Quinta-Inn-Suites-By-Wyndham-Lexington-Park-Patuxent.h2158611.Hotel-Information?chkin=2021-11-29&chkout=2021-11-30&x_pwa=1&rfrr=HSR&pwa_ts=1637631016710&referrerUrl=aHR0cHM6Ly93d3cuZXhwZWRpYS5jb20vSG90ZWwtU2VhcmNo&useRewards=false&rm1=a2&regionId=85533&destination=California%2C+Maryland%2C+United+States+of+America&destType=MARKET&sort=RECOMMENDED&top_dp=67&top_cur=USD&semdtl=&userIntent=&selectedRoomType=212709077&selectedRatePlan=238143462\"]\n",
    "\n",
    "# Print out web crawler results from the scraped data. \n",
    "for url in urls:\n",
    "    x = ExpeHotelScraper(url)\n",
    "    print(\"\\n Result: \\n\")\n",
    "    print(x.scrape_data())"
   ]
  },
  {
   "cell_type": "markdown",
   "metadata": {},
   "source": [
    "#### This is just scratching the surface of what we can do for a web crawler. The point is, the web crawler is efficient for ANY type of display that you would wish to use for a data science / web design / analytical project. "
   ]
  },
  {
   "cell_type": "code",
   "execution_count": null,
   "metadata": {},
   "outputs": [],
   "source": []
  }
 ],
 "metadata": {
  "kernelspec": {
   "display_name": "Python 3",
   "language": "python",
   "name": "python3"
  },
  "language_info": {
   "codemirror_mode": {
    "name": "ipython",
    "version": 3
   },
   "file_extension": ".py",
   "mimetype": "text/x-python",
   "name": "python",
   "nbconvert_exporter": "python",
   "pygments_lexer": "ipython3",
   "version": "3.9.1"
  }
 },
 "nbformat": 4,
 "nbformat_minor": 4
}
