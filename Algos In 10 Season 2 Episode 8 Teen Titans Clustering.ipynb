{
 "cells": [
  {
   "cell_type": "code",
   "execution_count": 1,
   "metadata": {},
   "outputs": [],
   "source": [
    "# Teen Titans Clustering.\n",
    "\n",
    "# All rights are reserved to Jason Lu 2021. No code may be used without express consent of \n",
    "# Jason Lu (jasonlu968@gmail.com)."
   ]
  },
  {
   "cell_type": "markdown",
   "metadata": {},
   "source": [
    "# Teen Titans Clustering Coding Solutions"
   ]
  },
  {
   "cell_type": "markdown",
   "metadata": {},
   "source": [
    "## All code, solutions, and methods are reserved for Jason Lu, 2021. Express usage of coding is forbidden outside of NC-SA Creative Commons licensing. "
   ]
  },
  {
   "cell_type": "markdown",
   "metadata": {},
   "source": [
    "Slide Decks Used From Episode 7 For Coding Solution Basis: \n",
    "\n",
    "https://docs.google.com/presentation/d/1zyqfl-ZOjbBAjgZYrZv-yBvlTF-eajS__QP0ODrPWG4/edit#slide=id.p"
   ]
  },
  {
   "cell_type": "markdown",
   "metadata": {},
   "source": [
    "# Stable Matching Mentorship  "
   ]
  },
  {
   "cell_type": "markdown",
   "metadata": {},
   "source": [
    "Stable Matching is an algorithm that determines compatible matches between two sets. \n",
    "\n",
    "For example (not necessarily dating / marriage related):\n",
    "\n",
    "Mentors and Mentees \n",
    "\n",
    "Each new hire will be assigned a mentor\n",
    "\n",
    "The mentor’s job is to properly onboard that new mentee / new hire \n",
    "\n",
    "So, how do we solve this problem? \n",
    "\n",
    "Gale Shapley algorithm is the answer. "
   ]
  },
  {
   "cell_type": "markdown",
   "metadata": {},
   "source": [
    "#### Gale Shapley Algorithm: \n",
    "\n",
    "Gale Shapley Algorithm: \n",
    "\n",
    "For each n mentors and m mentees (n <= m): we split the ‘relationships’ into rounds: \n",
    "\n",
    "For each round: the mentor or mentee can do the following:\n",
    "\n",
    "Accept the ‘onboarding’ relationship\n",
    "\n",
    "Reject the ‘onboarding’ relationship \n",
    "\n",
    "Defer for the next available mentorship or mentee-ship \n",
    "\n",
    "If the mentor-mentee or any pairing has not yet already been taken (we are assuming unique people in the mentors and mentees, no twins), then we will repeat until each pairing has been taken \n",
    "\n",
    "The results will properly onboard each mentee to a mentor \n",
    "\n",
    "Caveat: this assumes that neither n or m is not 2 more or less within each other\n"
   ]
  },
  {
   "cell_type": "code",
   "execution_count": 7,
   "metadata": {},
   "outputs": [],
   "source": [
    "# Coding solution for Gale Shapley Algorithm.\n",
    "\n",
    "# Source: https://gist.github.com/subpath/fac948b8fa18d0e5a539348231d14915\n",
    "\n",
    "# Imports \n",
    "\n",
    "import pandas as pd\n",
    "import numpy as np\n",
    "from collections import Counter\n",
    "from copy import copy\n",
    "\n",
    "# Solution code (with various portions commented)\n",
    "\n",
    "# Four mentors and mentees to make it easy to illustrate. \n",
    "mentee_list = [\"Mentee1\",\"Mentee2\",\"Mentee3\",\"Mentee4\"]\n",
    "mentor_list = [\"Mentor1\",\"Mentor2\",\"Mentor3\",\"Mentor4\"]\n",
    "\n",
    "# Convert to dataframes. \n",
    "mentor_list_df = pd.DataFrame({'Mentor1': [3,4,2,1], 'Mentor2': [3,1,4,2], 'Mentor3': [2,3,4,1], 'Mentor4': [3,2,1,4]})\n",
    "mentor_list_df.index = mentee_list\n",
    "\n",
    "mentee_list_df = pd.DataFrame({'Mentor1': [1,1,2,4], 'Mentor2': [2,4,1,2], 'Mentor3': [3,3,3,3], 'Mentor4': [4,2,4,1]})\n",
    "mentee_list_df.index = mentee_list"
   ]
  },
  {
   "cell_type": "code",
   "execution_count": 8,
   "metadata": {},
   "outputs": [
    {
     "data": {
      "text/html": [
       "<div>\n",
       "<style scoped>\n",
       "    .dataframe tbody tr th:only-of-type {\n",
       "        vertical-align: middle;\n",
       "    }\n",
       "\n",
       "    .dataframe tbody tr th {\n",
       "        vertical-align: top;\n",
       "    }\n",
       "\n",
       "    .dataframe thead th {\n",
       "        text-align: right;\n",
       "    }\n",
       "</style>\n",
       "<table border=\"1\" class=\"dataframe\">\n",
       "  <thead>\n",
       "    <tr style=\"text-align: right;\">\n",
       "      <th></th>\n",
       "      <th>Mentor1</th>\n",
       "      <th>Mentor2</th>\n",
       "      <th>Mentor3</th>\n",
       "      <th>Mentor4</th>\n",
       "    </tr>\n",
       "  </thead>\n",
       "  <tbody>\n",
       "    <tr>\n",
       "      <th>Mentee1</th>\n",
       "      <td>3</td>\n",
       "      <td>3</td>\n",
       "      <td>2</td>\n",
       "      <td>3</td>\n",
       "    </tr>\n",
       "    <tr>\n",
       "      <th>Mentee2</th>\n",
       "      <td>4</td>\n",
       "      <td>1</td>\n",
       "      <td>3</td>\n",
       "      <td>2</td>\n",
       "    </tr>\n",
       "    <tr>\n",
       "      <th>Mentee3</th>\n",
       "      <td>2</td>\n",
       "      <td>4</td>\n",
       "      <td>4</td>\n",
       "      <td>1</td>\n",
       "    </tr>\n",
       "    <tr>\n",
       "      <th>Mentee4</th>\n",
       "      <td>1</td>\n",
       "      <td>2</td>\n",
       "      <td>1</td>\n",
       "      <td>4</td>\n",
       "    </tr>\n",
       "  </tbody>\n",
       "</table>\n",
       "</div>"
      ],
      "text/plain": [
       "         Mentor1  Mentor2  Mentor3  Mentor4\n",
       "Mentee1        3        3        2        3\n",
       "Mentee2        4        1        3        2\n",
       "Mentee3        2        4        4        1\n",
       "Mentee4        1        2        1        4"
      ]
     },
     "execution_count": 8,
     "metadata": {},
     "output_type": "execute_result"
    }
   ],
   "source": [
    "# Check both dataframes. \n",
    "mentor_list_df"
   ]
  },
  {
   "cell_type": "code",
   "execution_count": 9,
   "metadata": {},
   "outputs": [
    {
     "data": {
      "text/html": [
       "<div>\n",
       "<style scoped>\n",
       "    .dataframe tbody tr th:only-of-type {\n",
       "        vertical-align: middle;\n",
       "    }\n",
       "\n",
       "    .dataframe tbody tr th {\n",
       "        vertical-align: top;\n",
       "    }\n",
       "\n",
       "    .dataframe thead th {\n",
       "        text-align: right;\n",
       "    }\n",
       "</style>\n",
       "<table border=\"1\" class=\"dataframe\">\n",
       "  <thead>\n",
       "    <tr style=\"text-align: right;\">\n",
       "      <th></th>\n",
       "      <th>Mentor1</th>\n",
       "      <th>Mentor2</th>\n",
       "      <th>Mentor3</th>\n",
       "      <th>Mentor4</th>\n",
       "    </tr>\n",
       "  </thead>\n",
       "  <tbody>\n",
       "    <tr>\n",
       "      <th>Mentee1</th>\n",
       "      <td>1</td>\n",
       "      <td>2</td>\n",
       "      <td>3</td>\n",
       "      <td>4</td>\n",
       "    </tr>\n",
       "    <tr>\n",
       "      <th>Mentee2</th>\n",
       "      <td>1</td>\n",
       "      <td>4</td>\n",
       "      <td>3</td>\n",
       "      <td>2</td>\n",
       "    </tr>\n",
       "    <tr>\n",
       "      <th>Mentee3</th>\n",
       "      <td>2</td>\n",
       "      <td>1</td>\n",
       "      <td>3</td>\n",
       "      <td>4</td>\n",
       "    </tr>\n",
       "    <tr>\n",
       "      <th>Mentee4</th>\n",
       "      <td>4</td>\n",
       "      <td>2</td>\n",
       "      <td>3</td>\n",
       "      <td>1</td>\n",
       "    </tr>\n",
       "  </tbody>\n",
       "</table>\n",
       "</div>"
      ],
      "text/plain": [
       "         Mentor1  Mentor2  Mentor3  Mentor4\n",
       "Mentee1        1        2        3        4\n",
       "Mentee2        1        4        3        2\n",
       "Mentee3        2        1        3        4\n",
       "Mentee4        4        2        3        1"
      ]
     },
     "execution_count": 9,
     "metadata": {},
     "output_type": "execute_result"
    }
   ],
   "source": [
    "mentee_list_df"
   ]
  },
  {
   "cell_type": "markdown",
   "metadata": {},
   "source": [
    "#### Warning: \n",
    "\n",
    "This code may take a while (given it is a cubic algorithm), be patient. One improvement would be memoize it in a table, but doing dynamic programming with Stable Matching is overkill. "
   ]
  },
  {
   "cell_type": "code",
   "execution_count": 10,
   "metadata": {},
   "outputs": [
    {
     "name": "stdout",
     "output_type": "stream",
     "text": [
      "Iteration:  0\n",
      "Iteration:  1\n",
      "Iteration:  2\n",
      "Iteration:  3\n"
     ]
    }
   ],
   "source": [
    "# Encapsulate the Gale-Shapley Algorithm into a function here. \n",
    "\n",
    "def gale_shapley():\n",
    "    # Custom Gale Shapley Algorithm, using various rounds. \n",
    "    # List of mentorships. \n",
    "    mentor_available = {mentee:mentor_list for mentee in mentee_list}\n",
    "    # Deferrals between any one mentee or mentor. \n",
    "    deferrals = []\n",
    "    # dict to store groups of mentors and mentees\n",
    "    groups = {}\n",
    "    # number of groups of mentors and mentees \n",
    "    count = 0\n",
    "    while len(deferrals)<len(mentee_list):\n",
    "        for mentee in mentee_list:\n",
    "            if mentee not in deferrals:\n",
    "                mentor = mentor_available[mentee]\n",
    "                # Use df.loc Python function for call by value indexing here.\n",
    "                best_choice = mentee_list_df.loc[mentee][mentee_list_df.loc[mentee].index.isin(mentor)].idxmin()\n",
    "                # Mentor-mentee groups formed here. \n",
    "                groups[(mentee, best_choice)]=(mentee_list_df.loc[mentee][best_choice],\n",
    "                                                 mentor_list_df.loc[mentee][best_choice])\n",
    "        # Overlays for mentors and mentees. \n",
    "        overlays = Counter([key[1] for key in groups.keys()])\n",
    "        # Iteratively choose best available mentor. \n",
    "        for mentor in overlays.keys():\n",
    "            if overlays[mentor]>1:\n",
    "                # pairs to drop from groups\n",
    "                pairs_to_drop = sorted({pair: groups[pair] for pair in groups.keys() \n",
    "                    # Important: this prevents duplicates or twin mentors and mentees. \n",
    "                    if mentor in pair}.items(), key=lambda x:\n",
    "                                       x[1][1])[1:]\n",
    "                # Avoid double-asking between mentors and mentees. \n",
    "                for m_to_drop in pairs_to_drop:\n",
    "                    del groups[m_to_drop[0]]\n",
    "                    # Anonymous variable to store mentor deep copies. \n",
    "                    _mentor = copy(mentor_available[m_to_drop[0][0]])\n",
    "                    _mentor.remove(m_to_drop[0][1])\n",
    "                    mentor_available[m_to_drop[0][0]] = _mentor\n",
    "    # mentee who successfully created mentor-mentee groups must be added to the waiting list \n",
    "    deferrals = [mentee[0] for mentee in groups.keys()]\n",
    "    # update counter\n",
    "    count+=1\n",
    "    \n",
    "# Iteratively run the algorithm here: \n",
    "for index in range(len(mentor_list_df)):\n",
    "    print(\"Iteration: \", index)\n",
    "    \n",
    "# gale_shapley()"
   ]
  },
  {
   "cell_type": "markdown",
   "metadata": {},
   "source": [
    "# Bipartite ALDS Predictions (Red Sox vs. Rays) "
   ]
  },
  {
   "cell_type": "markdown",
   "metadata": {},
   "source": [
    "It is the Red Sox vs. Rays ALDS. \n",
    "\n",
    "We already know the series is tied 1-1. So, far, the Red Sox and Rays have won 1 game apiece. \n",
    "\n",
    "There are just 3 games left in this best of 5 series. \n",
    "\n",
    "Apply a bipartite 2-color node matching algorithm to determine what is the best chance for each team to win, given each Red Node be a Red Sox starting pitcher, and Blue Node be a Tampa Bay Rays starting pitcher. \n",
    "\n",
    "\n",
    "\n"
   ]
  },
  {
   "cell_type": "markdown",
   "metadata": {},
   "source": [
    "#### Note: This solution is still in P-complete time, but if we randomize the ordering of the games and their respective starting pitchers, it becomes NP-Complete. The Red Sox have two games at home, and one more game on the road. Note, the below chart is not necessarily bipartite complete.\n",
    "\n",
    "We apply the following algorithm, using bipartite graphs as shown on the left as a ‘black box’: \n",
    "\n",
    "For each remaining game in the ALDS:\n",
    "If we can split each of the ‘wins’ and ‘loses’ into independent sets, then we will determine at least who wins and loses in Games 3,4. \n",
    "If we can narrow down further each mapping , we can apply BFS on each remaining pitcher node for both Boston and Tampa Bay. Enqueue the ‘win’ red node for Boston, and ‘win’ blue node for Tampa Bay. \n",
    "\n",
    "The resulting mapping will be split into the best Boston winning, TB losing, and vice versa. The results of this graph will then become a perfect matching, because each win and loss node is perfectly aligned to either Boston or TB set.  \n"
   ]
  },
  {
   "cell_type": "code",
   "execution_count": 11,
   "metadata": {},
   "outputs": [],
   "source": [
    "# Coding Solution for the Bipartite 2-Color Node Matching Algorithm. \n",
    "\n",
    "redSoxPitchers = dict() \n",
    "tampaBayPitchers = dict() \n",
    "\n",
    "# Algorithm to apply the bipartite matching. \n",
    "# imports\n",
    "import networkx as nx\n",
    "from networkx.algorithms import bipartite\n",
    "\n",
    "# Initialize graph\n",
    "B = nx.Graph()\n",
    "\n",
    "# Add nodes with the node attribute \"bipartite\"\n",
    "top_nodes = [\"RS1\", \"RS2\", \"RS3\"]\n",
    "bottom_nodes = [\"TB1\", \"TB2\", \"TB3\"]\n",
    "\n",
    "B.add_nodes_from(top_nodes, bipartite=0)\n",
    "B.add_nodes_from(bottom_nodes, bipartite=1)\n",
    "# Add edges only between nodes of opposite node sets\n",
    "B.add_edges_from([(\"RS1\", \"TB1\"), (\"RS1\", \"TB2\"), (\"RS1\", \"TB2\"), (\"RS2\", \"TB3\"), (\"RS3\", \"TB1\"), (\"RS3\", \"TB3\")])"
   ]
  },
  {
   "cell_type": "code",
   "execution_count": 12,
   "metadata": {},
   "outputs": [
    {
     "data": {
      "text/plain": [
       "{'RS2': 'TB3',\n",
       " 'RS3': 'TB1',\n",
       " 'RS1': 'TB2',\n",
       " 'TB2': 'RS1',\n",
       " 'TB1': 'RS3',\n",
       " 'TB3': 'RS2'}"
      ]
     },
     "execution_count": 12,
     "metadata": {},
     "output_type": "execute_result"
    }
   ],
   "source": [
    "# Python Coding Solution\n",
    "\n",
    "# Obtain maximum bipartite matching here. \n",
    "def max_bipartite():\n",
    "    # New Algorithm: Hopcroft Algorithm:\n",
    "    # Source: https://towardsdatascience.com/matching-of-bipartite-graphs-using-networkx-6d355b164567\n",
    "    optimal = bipartite.matching.hopcroft_karp_matching(B,top_nodes)\n",
    "    return optimal \n",
    "\n",
    "max_bipartite() "
   ]
  },
  {
   "cell_type": "code",
   "execution_count": 13,
   "metadata": {},
   "outputs": [
    {
     "name": "stdout",
     "output_type": "stream",
     "text": [
      "<class 'dict'>\n"
     ]
    },
    {
     "data": {
      "text/plain": [
       "{'RS2': 2, 'RS3': 3, 'RS1': 1, 2: 'RS2', 3: 'RS3', 1: 'RS1'}"
      ]
     },
     "execution_count": 13,
     "metadata": {},
     "output_type": "execute_result"
    }
   ],
   "source": [
    "# We now use another function to obtain the minimum weight matching, for each ALDS remaining games. \n",
    "\n",
    "def obtain_min_weight_match():\n",
    "    # New graph B. \n",
    "    B = nx.Graph() \n",
    "    # Same thing as before, initialize the graph but this time add in weights.\n",
    "\n",
    "    # Add nodes with the node attribute \"bipartite\"\n",
    "    top_nodes = [\"RS1\", \"RS2\", \"RS3\"]\n",
    "    bottom_nodes = [\"TB1\", \"TB2\", \"TB3\"]\n",
    "    B.add_nodes_from(top_nodes, bipartite=0)\n",
    "    B.add_nodes_from(bottom_nodes, bipartite=1)\n",
    "    \n",
    "    # Add edges with weights\n",
    "    # Randomize the weights from 1 to 6. \n",
    "    B.add_edge(1, \"RS1\", weight = 6)\n",
    "    B.add_edge(1, \"TB1\", weight = 1)\n",
    "    B.add_edge(2, \"RS2\", weight = 2)\n",
    "    B.add_edge(2, \"TB2\", weight = 3)\n",
    "    B.add_edge(3, \"RS3\", weight = 4)\n",
    "    B.add_edge(3, \"TB3\", weight = 5)\n",
    "    #Obtain the minimum weight full matching\n",
    "    min_weight_matching = bipartite.matching.minimum_weight_full_matching(B, top_nodes, \"weight\")\n",
    "    # Debug, for data structure types.\n",
    "    print(type(min_weight_matching))\n",
    "    return min_weight_matching \n",
    "\n",
    "obtain_min_weight_match()"
   ]
  },
  {
   "cell_type": "code",
   "execution_count": 14,
   "metadata": {},
   "outputs": [
    {
     "name": "stdout",
     "output_type": "stream",
     "text": [
      "Red Sox win\n"
     ]
    },
    {
     "data": {
      "text/html": [
       "<div>\n",
       "<style scoped>\n",
       "    .dataframe tbody tr th:only-of-type {\n",
       "        vertical-align: middle;\n",
       "    }\n",
       "\n",
       "    .dataframe tbody tr th {\n",
       "        vertical-align: top;\n",
       "    }\n",
       "\n",
       "    .dataframe thead th {\n",
       "        text-align: right;\n",
       "    }\n",
       "</style>\n",
       "<table border=\"1\" class=\"dataframe\">\n",
       "  <thead>\n",
       "    <tr style=\"text-align: right;\">\n",
       "      <th></th>\n",
       "      <th>0</th>\n",
       "      <th>1</th>\n",
       "    </tr>\n",
       "  </thead>\n",
       "  <tbody>\n",
       "    <tr>\n",
       "      <th>0</th>\n",
       "      <td>RS2</td>\n",
       "      <td>2</td>\n",
       "    </tr>\n",
       "    <tr>\n",
       "      <th>1</th>\n",
       "      <td>RS3</td>\n",
       "      <td>3</td>\n",
       "    </tr>\n",
       "    <tr>\n",
       "      <th>2</th>\n",
       "      <td>RS1</td>\n",
       "      <td>1</td>\n",
       "    </tr>\n",
       "    <tr>\n",
       "      <th>3</th>\n",
       "      <td>2</td>\n",
       "      <td>RS2</td>\n",
       "    </tr>\n",
       "    <tr>\n",
       "      <th>4</th>\n",
       "      <td>3</td>\n",
       "      <td>RS3</td>\n",
       "    </tr>\n",
       "    <tr>\n",
       "      <th>5</th>\n",
       "      <td>1</td>\n",
       "      <td>RS1</td>\n",
       "    </tr>\n",
       "  </tbody>\n",
       "</table>\n",
       "</div>"
      ],
      "text/plain": [
       "     0    1\n",
       "0  RS2    2\n",
       "1  RS3    3\n",
       "2  RS1    1\n",
       "3    2  RS2\n",
       "4    3  RS3\n",
       "5    1  RS1"
      ]
     },
     "execution_count": 14,
     "metadata": {},
     "output_type": "execute_result"
    }
   ],
   "source": [
    "# Now, we finally determine how the ALCS will go by determining who wins each game. \n",
    "def determine_game_results(): \n",
    "    B = nx.Graph()\n",
    "    # Add nodes with the node attribute \"bipartite\"\n",
    "    top_nodes = [\"RS1\", \"RS2\", \"RS3\"]\n",
    "    bottom_nodes = [\"TB1\", \"TB2\", \"TB3\"]\n",
    "    B.add_nodes_from(top_nodes, bipartite=0)\n",
    "    B.add_nodes_from(bottom_nodes, bipartite=1)\n",
    "    \n",
    "    # Add edges with weights\n",
    "    # Randomize the weights from 1 to 6. \n",
    "    B.add_edge(1, \"RS1\", weight = 5)\n",
    "    B.add_edge(1, \"TB1\", weight = 2)\n",
    "    B.add_edge(2, \"RS2\", weight = 1)\n",
    "    B.add_edge(2, \"TB2\", weight = 4)\n",
    "    B.add_edge(3, \"RS3\", weight = 5)\n",
    "    B.add_edge(3, \"TB3\", weight = 6)\n",
    "    # Determining who wins which game based on weight matching results. \n",
    "    my_matching = bipartite.matching.minimum_weight_full_matching(B, top_nodes, \"weight\")\n",
    "    \n",
    "    # Return the win / loss matrix here, as a pandas dataframe. \n",
    "    for game in my_matching:\n",
    "        # print(game)\n",
    "        if game == \"TB1\" or game == \"TB2\" or game == \"TB3\":\n",
    "            print(\"TB Rays win\")\n",
    "        elif game == \"RS1\" or game == \"RS2\" or game == \"RS3\":\n",
    "            print(\"Red Sox win\")\n",
    "        else:\n",
    "            print(\"Series over.\")\n",
    "        # Return as pandas dataframe. \n",
    "        return pd.DataFrame(my_matching.items()) \n",
    "        \n",
    "determine_game_results()  "
   ]
  },
  {
   "cell_type": "raw",
   "metadata": {},
   "source": [
    "# Java Coding Solution. \n",
    "\n",
    "// A Java program to find maximal\n",
    "// Bipartite matching.\n",
    "import java.util.*;\n",
    "import java.lang.*;\n",
    "import java.io.*;\n",
    "\n",
    "class Bipartite\n",
    "{\n",
    "\t// M is number of pitchers for Red Sox, N for Tampa Bay. \n",
    "\tstatic final int M = 6;\n",
    "\tstatic final int N = 6;\n",
    "\n",
    "\t// Recursive function that\n",
    "\t// returns true if a matching for\n",
    "\t// vertex u is possible\n",
    "\tboolean bpm(boolean bpGraph[][], int u,\n",
    "\t\t\t\tboolean seen[], int matchR[])\n",
    "\t{\n",
    "\t\t// Try every pitcher in the ALDS \n",
    "\t\tfor (int v = 0; v < N; v++)\n",
    "\t\t{\n",
    "\t\t\tif (bpGraph[u][v] && !seen[v])\n",
    "\t\t\t{\n",
    "\t\t\t\t\n",
    "\t\t\t\t// Mark v as visited\n",
    "\t\t\t\tseen[v] = true;\n",
    "\n",
    "\t\t\t\t// BFS recursive case for each pitcher in the bipartite graph. \n",
    "\t\t\t\tif (matchR[v] < 0 || bpm(bpGraph, matchR[v],\n",
    "\t\t\t\t\t\t\t\t\t\tseen, matchR))\n",
    "\t\t\t\t{\n",
    "\t\t\t\t\tmatchR[v] = u;\n",
    "\t\t\t\t\treturn true;\n",
    "\t\t\t\t}\n",
    "\t\t\t}\n",
    "\t\t}\n",
    "\t\treturn false;\n",
    "\t}\n",
    "\n",
    "\t// Returns maximum number of games Red Sox / TB can win. \n",
    "\tint maxBPM(boolean bpGraph[][])\n",
    "\t{\n",
    "\t\t// An array to keep track of the games. \n",
    "\t\tint matchR[] = new int[N];\n",
    "\t\tfor(int i = 0; i < N; ++i)\n",
    "\t\t\tmatchR[i] = -1;\n",
    "\n",
    "\t\t// Count pitchers assigned to games \n",
    "\t\tint result = 0;\n",
    "\t\tfor (int u = 0; u < M; u++)\n",
    "\t\t{\n",
    "\t\t\tboolean seen[] =new boolean[N] ;\n",
    "\t\t\tfor(int i = 0; i < N; ++i)\n",
    "\t\t\t\tseen[i] = false;\n",
    "\n",
    "\t\t\t// Find if pitcher 'u' can win the game \n",
    "\t\t\tif (bpm(bpGraph, u, seen, matchR))\n",
    "\t\t\t\tresult++;\n",
    "\t\t}\n",
    "\t\treturn result;\n",
    "\t}\n",
    "}\n"
   ]
  },
  {
   "cell_type": "markdown",
   "metadata": {},
   "source": [
    "#### Caveat: \n",
    "\n",
    "The graph solution is quite repetitive, we can improve the code and design by introducing the factory design pattern. \n",
    "A bonus episode at the end of 2021 year in December will show such a refactoring. "
   ]
  },
  {
   "cell_type": "markdown",
   "metadata": {},
   "source": [
    "# Teen Titans Clustering Problems"
   ]
  },
  {
   "cell_type": "markdown",
   "metadata": {},
   "source": [
    "Slade is once again causing trouble. \n",
    "It is up to the Teen Titans themselves to rescue the city, and unfortunately, Slade has used ‘divide and conquer’ to ‘distract’ the Titans (well, besides his patented ‘Mind Control Manipulation’, movie spoilers) via five separate clustering ‘challenges’.\n",
    "Can Robin, Starfire, Cyborg, Beast Boy, and Raven separately figure out challenges, and then band together to defeat Slade once and for all? We’ll see...\n"
   ]
  },
  {
   "cell_type": "markdown",
   "metadata": {},
   "source": [
    "## Teen Titans Problem Part A: Robin (I like ice cream, you like ice cream, we all like ice cream)\n",
    "\n",
    "Slade has first targeted Robin, since he is sort of the ‘leader’ of Teen Titans. \n",
    "\n",
    "He wants to ‘trick’ Robin into thinking that some ice cream bars are actually ‘super power’ food, while in reality, they are actually kryptonite to make Robin seriously ill. However, Robin himself has a stash of ‘antidote’ should he fall ill. \n",
    "\n",
    "Apply the simple K-Means algorithm to ensure that Robin eats the least possible amount of ‘fake’ bars, while eating just enough antidote, given the confusion matrix: "
   ]
  },
  {
   "cell_type": "code",
   "execution_count": 15,
   "metadata": {},
   "outputs": [
    {
     "data": {
      "image/png": "[encoded data removed]",
      "text/plain": [
       "<IPython.core.display.Image object>"
      ]
     },
     "execution_count": 15,
     "metadata": {},
     "output_type": "execute_result"
    }
   ],
   "source": [
    "from IPython.display import Image\n",
    "Image(\"robin_matrix.png\")"
   ]
  },
  {
   "cell_type": "markdown",
   "metadata": {},
   "source": [
    "#### Coding Solution In The Following Notebook: \n",
    "\n",
    "http://localhost:8888/notebooks/Algos%20In%2010%20Season%202%20Episode%208%20Teen%20Titans%20Clustering%20Notebook%201.ipynb"
   ]
  },
  {
   "cell_type": "markdown",
   "metadata": {},
   "source": [
    "## Teen Titans Problem Part B: Cyborg (Nice little mainframe twist)\n",
    "\n",
    "Slade has put Cyborg in the ‘wrong floor’, and Cyborg is a smart CS / DS / engineering guy. However, Cyborg isn’t good with directions finding. Luckily, he does have some mainframe knowledge about dataset allocations. \n",
    "\n",
    "Slade has allocated the following datasets: Consider the dataset bit as a point in the K-Means clustering algorithm:\n",
    "\n",
    "\tSLADE.TRICK.EAST = 20 bits \n",
    "\tSLADE.TRICK.WEST= 40 bits \n",
    "\tSLADE.TRICK.NORTH = 10 bits \n",
    "\tSLADE.TRICK.SOUTH = 30 bits \n",
    "\n",
    "Given now four directions (North, East, West, South), use the K-Means algorithm to help Cyborg escape the Maze of Doom, where he will not be able to stay awake (Slade has put some sort of sleeping agent in the maze) unless he is 2 times the recommended distance from the starting point. \n",
    "\n",
    "\n",
    "\n",
    "\n"
   ]
  },
  {
   "cell_type": "markdown",
   "metadata": {},
   "source": [
    "#### Coding Solution In The Following Notebook: \n",
    "\n",
    "http://localhost:8888/notebooks/Algos%20In%2010%20Season%202%20Episode%208%20Teen%20Titans%20Clustering%20Notebook%202.ipynb"
   ]
  },
  {
   "cell_type": "markdown",
   "metadata": {},
   "source": [
    "## Teen Titans Problem Part C: Starfire (GMM Pizza Conundrum)\n",
    "\n",
    "For the ladies, Slade is going more down the dinner date route. \n",
    "\n",
    "Starfire is a pizza fanatic. As attributed by the Teen Titans Go Movie, she simply loves all things pizza. Unfortunately, Slade is as clever in Algos as he is in Mind Control Manipulation.\n",
    "\n",
    "Slade tries to give Starfire some sort of stomach pain by ‘falsely’ giving her instructions to make the famous Titans Pizza. Use GMM (Gaussian Mixture Models) clustering solution to help her avoid facing that particular pain, where each cluster is of the following 3 ingredients: pepperoni, cheese, and pineapple. \n",
    "\n",
    "\n"
   ]
  },
  {
   "cell_type": "markdown",
   "metadata": {},
   "source": [
    "#### Coding Solution In The Following Notebook: \n",
    "\n",
    "http://localhost:8888/notebooks/Algos%20In%2010%20Season%202%20Episode%208%20Teen%20Titans%20Clustering%20Notebook%203.ipynb"
   ]
  },
  {
   "cell_type": "markdown",
   "metadata": {},
   "source": [
    "## Teen Titans Problem Part D: Raven (Shady Centroids)\n"
   ]
  },
  {
   "cell_type": "markdown",
   "metadata": {},
   "source": [
    "As for Raven, Slade is trying to put reverse psychology to ‘trick’ her. \n",
    "\n",
    "Raven is suddenly waking up at Teen Titans HQ, and she is stuck in a circular room with 5 doors. Only one of them is the proper exit, the other is a room full of lasers, trap doors, and other dangerous things. \n",
    "\n",
    "Apply a centroid clustering algorithm to help Raven escape. \n",
    "\n",
    "Hint: See the Iris flower dataset clustering solution: \n",
    "\n",
    "https://www.kaggle.com/khotijahs1/k-means-clustering-of-iris-dataset"
   ]
  },
  {
   "cell_type": "markdown",
   "metadata": {},
   "source": [
    "#### Coding Solution In The Following Notebook: \n",
    "\n",
    "http://localhost:8888/notebooks/Algos%20In%2010%20Season%202%20Episode%208%20Teen%20Titans%20Clustering%20Notebook%204.ipynb"
   ]
  },
  {
   "cell_type": "markdown",
   "metadata": {},
   "source": [
    "## Teen Titans Problem Part E: Beast Boy (ft. Mr Beast)\n"
   ]
  },
  {
   "cell_type": "markdown",
   "metadata": {},
   "source": [
    "Slade finally puts Beast Boy into ‘idol’ trance, by having the famous YouTuber Mr. Beast (S/O to his work on YouTube!) as a ‘fake’ guide for him in a zoo. \n",
    "\n",
    "Since Beast Boy can turn into an animal at will of his choosing, Slade will use biological and zoological confusion to his advantage. Use a dendrogram-based clustering solution and provide a heat map (for now, since this is non-coding, we will just draw a crude dummy heat map, and for S2 E8, use seaborn and histogram plotting to properly draw it with Python) to help Beast Boy escape the zoo with his ‘most durable’ animal form of: dinosaur, gorilla, dog, cat, and falcon. \n",
    "\n",
    "Essentially, run a 5-cluster node solution with a dendrogram and heat map to figure out the problem. \n",
    "\n",
    "\n"
   ]
  },
  {
   "cell_type": "markdown",
   "metadata": {},
   "source": [
    "#### Coding Solution In The Following Notebook: \n",
    "\n",
    " http://localhost:8888/notebooks/Algos%20In%2010%20Season%202%20Episode%208%20Teen%20Titans%20Clustering%20Notebook%205.ipynb"
   ]
  },
  {
   "cell_type": "code",
   "execution_count": null,
   "metadata": {},
   "outputs": [],
   "source": []
  }
 ],
 "metadata": {
  "kernelspec": {
   "display_name": "Python 3",
   "language": "python",
   "name": "python3"
  },
  "language_info": {
   "codemirror_mode": {
    "name": "ipython",
    "version": 3
   },
   "file_extension": ".py",
   "mimetype": "text/x-python",
   "name": "python",
   "nbconvert_exporter": "python",
   "pygments_lexer": "ipython3",
   "version": "3.9.1"
  }
 },
 "nbformat": 4,
 "nbformat_minor": 4
}
