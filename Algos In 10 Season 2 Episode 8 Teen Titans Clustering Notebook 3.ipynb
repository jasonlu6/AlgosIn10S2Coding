{
 "cells": [
  {
   "cell_type": "markdown",
   "metadata": {},
   "source": [
    "### Problem Part C: Starfire (GMM Pizza Conundrum)"
   ]
  },
  {
   "cell_type": "markdown",
   "metadata": {},
   "source": [
    "For the ladies, Slade is going more down the dinner date route. \n",
    "\n",
    "Starfire is a pizza fanatic. As attributed by the Teen Titans Go Movie, she simply loves all things pizza. Unfortunately, Slade is as clever in Algos as he is in Mind Control Manipulation.\n",
    "\n",
    "Slade tries to give Starfire some sort of stomach pain by ‘falsely’ giving her instructions to make the famous Titans Pizza. Use GMM (Gaussian Mixture Models) clustering solution to help her avoid facing that particular pain, where each cluster is of the following 3 ingredients: pepperoni, cheese, and pineapple. "
   ]
  },
  {
   "cell_type": "code",
   "execution_count": 17,
   "metadata": {},
   "outputs": [],
   "source": [
    "import pandas as pd \n",
    "import matplotlib.pyplot as plt\n",
    "\n",
    "import numpy as np\n",
    "\n",
    "from sklearn import datasets\n",
    "from sklearn.mixture import GaussianMixture\n",
    "from sklearn.model_selection import StratifiedKFold\n",
    "\n",
    "# Import for making blobs that represent pizza toppings. \n",
    "from sklearn.datasets import make_blobs"
   ]
  },
  {
   "cell_type": "code",
   "execution_count": 18,
   "metadata": {},
   "outputs": [
    {
     "data": {
      "text/html": [
       "<div>\n",
       "<style scoped>\n",
       "    .dataframe tbody tr th:only-of-type {\n",
       "        vertical-align: middle;\n",
       "    }\n",
       "\n",
       "    .dataframe tbody tr th {\n",
       "        vertical-align: top;\n",
       "    }\n",
       "\n",
       "    .dataframe thead th {\n",
       "        text-align: right;\n",
       "    }\n",
       "</style>\n",
       "<table border=\"1\" class=\"dataframe\">\n",
       "  <thead>\n",
       "    <tr style=\"text-align: right;\">\n",
       "      <th></th>\n",
       "      <th>Topping</th>\n",
       "      <th>Pain Point</th>\n",
       "      <th>cluster</th>\n",
       "    </tr>\n",
       "  </thead>\n",
       "  <tbody>\n",
       "    <tr>\n",
       "      <th>0</th>\n",
       "      <td>-1.576720</td>\n",
       "      <td>4.957406</td>\n",
       "      <td>0</td>\n",
       "    </tr>\n",
       "    <tr>\n",
       "      <th>1</th>\n",
       "      <td>0.628358</td>\n",
       "      <td>4.460136</td>\n",
       "      <td>0</td>\n",
       "    </tr>\n",
       "    <tr>\n",
       "      <th>2</th>\n",
       "      <td>2.470349</td>\n",
       "      <td>4.098629</td>\n",
       "      <td>0</td>\n",
       "    </tr>\n",
       "    <tr>\n",
       "      <th>3</th>\n",
       "      <td>2.843828</td>\n",
       "      <td>3.326509</td>\n",
       "      <td>0</td>\n",
       "    </tr>\n",
       "    <tr>\n",
       "      <th>4</th>\n",
       "      <td>1.955008</td>\n",
       "      <td>6.544681</td>\n",
       "      <td>0</td>\n",
       "    </tr>\n",
       "  </tbody>\n",
       "</table>\n",
       "</div>"
      ],
      "text/plain": [
       "    Topping  Pain Point  cluster\n",
       "0 -1.576720    4.957406        0\n",
       "1  0.628358    4.460136        0\n",
       "2  2.470349    4.098629        0\n",
       "3  2.843828    3.326509        0\n",
       "4  1.955008    6.544681        0"
      ]
     },
     "execution_count": 18,
     "metadata": {},
     "output_type": "execute_result"
    }
   ],
   "source": [
    "# Solution: Use something 'similar' to Gaussian Mixture Model with Iris Flower Dataset. \n",
    "\n",
    "# Source: https://cmdlinetips.com/2021/03/gaussian-mixture-models-with-scikit-learn-in-python/\n",
    "# Source (for GMM): https://scikit-learn.org/stable/auto_examples/mixture/plot_gmm_covariances.html\n",
    "#sphx-glr-auto-examples-mixture-plot-gmm-covariances-py\n",
    "\n",
    "# Make three 'blobs' of pizza toppings. \n",
    "# pepperoni: 1 center, 20 samples, random state = 0 \n",
    "# cheese: 2 centers, 30 samples, random state = 99\n",
    "# pineapple: 3 centers, 40 samples, random state = 999\n",
    "pepperoni_x, pepperoni_y = make_blobs(n_samples=20,\n",
    "                  centers=1, \n",
    "                  cluster_std=1,\n",
    "                  random_state=0)\n",
    "\n",
    "cheese_x, cheese_y = make_blobs(n_samples=30,\n",
    "                  centers=2, \n",
    "                  cluster_std=1,\n",
    "                  random_state=99)\n",
    "\n",
    "pineapple_x, pineapple_y = make_blobs(n_samples=40,\n",
    "                  centers=3, \n",
    "                  cluster_std=1,\n",
    "                  random_state=999)\n",
    "\n",
    "# Now, we apply dataframes for all three 'blobs'. \n",
    "\n",
    "data_pepperoni = pd.DataFrame(pepperoni_x)\n",
    "data_pepperoni.columns=[\"Topping\",\"Pain Point\"]\n",
    "data_pepperoni[\"cluster\"]=pepperoni_y\n",
    "data_pepperoni.head()\n"
   ]
  },
  {
   "cell_type": "code",
   "execution_count": 19,
   "metadata": {},
   "outputs": [
    {
     "data": {
      "text/html": [
       "<div>\n",
       "<style scoped>\n",
       "    .dataframe tbody tr th:only-of-type {\n",
       "        vertical-align: middle;\n",
       "    }\n",
       "\n",
       "    .dataframe tbody tr th {\n",
       "        vertical-align: top;\n",
       "    }\n",
       "\n",
       "    .dataframe thead th {\n",
       "        text-align: right;\n",
       "    }\n",
       "</style>\n",
       "<table border=\"1\" class=\"dataframe\">\n",
       "  <thead>\n",
       "    <tr style=\"text-align: right;\">\n",
       "      <th></th>\n",
       "      <th>Topping</th>\n",
       "      <th>Pain Point</th>\n",
       "      <th>cluster</th>\n",
       "    </tr>\n",
       "  </thead>\n",
       "  <tbody>\n",
       "    <tr>\n",
       "      <th>0</th>\n",
       "      <td>2.944006</td>\n",
       "      <td>0.352521</td>\n",
       "      <td>0</td>\n",
       "    </tr>\n",
       "    <tr>\n",
       "      <th>1</th>\n",
       "      <td>3.278522</td>\n",
       "      <td>0.446966</td>\n",
       "      <td>0</td>\n",
       "    </tr>\n",
       "    <tr>\n",
       "      <th>2</th>\n",
       "      <td>3.728833</td>\n",
       "      <td>1.091380</td>\n",
       "      <td>0</td>\n",
       "    </tr>\n",
       "    <tr>\n",
       "      <th>3</th>\n",
       "      <td>3.072085</td>\n",
       "      <td>-0.700403</td>\n",
       "      <td>0</td>\n",
       "    </tr>\n",
       "    <tr>\n",
       "      <th>4</th>\n",
       "      <td>3.469071</td>\n",
       "      <td>0.217769</td>\n",
       "      <td>0</td>\n",
       "    </tr>\n",
       "  </tbody>\n",
       "</table>\n",
       "</div>"
      ],
      "text/plain": [
       "    Topping  Pain Point  cluster\n",
       "0  2.944006    0.352521        0\n",
       "1  3.278522    0.446966        0\n",
       "2  3.728833    1.091380        0\n",
       "3  3.072085   -0.700403        0\n",
       "4  3.469071    0.217769        0"
      ]
     },
     "execution_count": 19,
     "metadata": {},
     "output_type": "execute_result"
    }
   ],
   "source": [
    "data_cheese = pd.DataFrame(cheese_x)\n",
    "data_cheese.columns=[\"Topping\",\"Pain Point\"]\n",
    "data_cheese[\"cluster\"]=cheese_y\n",
    "data_cheese.head()"
   ]
  },
  {
   "cell_type": "code",
   "execution_count": 20,
   "metadata": {},
   "outputs": [
    {
     "data": {
      "text/html": [
       "<div>\n",
       "<style scoped>\n",
       "    .dataframe tbody tr th:only-of-type {\n",
       "        vertical-align: middle;\n",
       "    }\n",
       "\n",
       "    .dataframe tbody tr th {\n",
       "        vertical-align: top;\n",
       "    }\n",
       "\n",
       "    .dataframe thead th {\n",
       "        text-align: right;\n",
       "    }\n",
       "</style>\n",
       "<table border=\"1\" class=\"dataframe\">\n",
       "  <thead>\n",
       "    <tr style=\"text-align: right;\">\n",
       "      <th></th>\n",
       "      <th>Topping</th>\n",
       "      <th>Pain Point</th>\n",
       "      <th>cluster</th>\n",
       "    </tr>\n",
       "  </thead>\n",
       "  <tbody>\n",
       "    <tr>\n",
       "      <th>0</th>\n",
       "      <td>-6.551584</td>\n",
       "      <td>3.949947</td>\n",
       "      <td>1</td>\n",
       "    </tr>\n",
       "    <tr>\n",
       "      <th>1</th>\n",
       "      <td>-6.349845</td>\n",
       "      <td>-2.472355</td>\n",
       "      <td>2</td>\n",
       "    </tr>\n",
       "    <tr>\n",
       "      <th>2</th>\n",
       "      <td>-9.196146</td>\n",
       "      <td>-2.470754</td>\n",
       "      <td>2</td>\n",
       "    </tr>\n",
       "    <tr>\n",
       "      <th>3</th>\n",
       "      <td>-7.877278</td>\n",
       "      <td>-2.875337</td>\n",
       "      <td>2</td>\n",
       "    </tr>\n",
       "    <tr>\n",
       "      <th>4</th>\n",
       "      <td>-9.182584</td>\n",
       "      <td>4.626792</td>\n",
       "      <td>1</td>\n",
       "    </tr>\n",
       "  </tbody>\n",
       "</table>\n",
       "</div>"
      ],
      "text/plain": [
       "    Topping  Pain Point  cluster\n",
       "0 -6.551584    3.949947        1\n",
       "1 -6.349845   -2.472355        2\n",
       "2 -9.196146   -2.470754        2\n",
       "3 -7.877278   -2.875337        2\n",
       "4 -9.182584    4.626792        1"
      ]
     },
     "execution_count": 20,
     "metadata": {},
     "output_type": "execute_result"
    }
   ],
   "source": [
    "data_pineapple = pd.DataFrame(pineapple_x)\n",
    "data_pineapple.columns=[\"Topping\",\"Pain Point\"]\n",
    "data_pineapple[\"cluster\"]=pineapple_y\n",
    "data_pineapple.head()"
   ]
  },
  {
   "cell_type": "code",
   "execution_count": 21,
   "metadata": {},
   "outputs": [
    {
     "data": {
      "text/plain": [
       "<AxesSubplot:xlabel='Topping', ylabel='Pain Point'>"
      ]
     },
     "execution_count": 21,
     "metadata": {},
     "output_type": "execute_result"
    },
    {
     "data": {
      "image/png": "[encoded data removed]",
      "text/plain": [
       "<Figure size 648x504 with 1 Axes>"
      ]
     },
     "metadata": {
      "needs_background": "light"
     },
     "output_type": "display_data"
    }
   ],
   "source": [
    "# We now plot three different types of clusters, with co-variance. \n",
    "\n",
    "# Seaborn python library plot.\n",
    "import seaborn as sns\n",
    "\n",
    "plt.figure(figsize=(9,7))\n",
    "sns.scatterplot(data=data_pepperoni, \n",
    "                x=\"Topping\",\n",
    "                y=\"Pain Point\", \n",
    "                hue=\"cluster\",\n",
    "                palette=[\"red\"])"
   ]
  },
  {
   "cell_type": "code",
   "execution_count": 22,
   "metadata": {},
   "outputs": [
    {
     "data": {
      "text/plain": [
       "<AxesSubplot:xlabel='Topping', ylabel='Pain Point'>"
      ]
     },
     "execution_count": 22,
     "metadata": {},
     "output_type": "execute_result"
    },
    {
     "data": {
      "image/png": "[encoded data removed]",
      "text/plain": [
       "<Figure size 648x504 with 1 Axes>"
      ]
     },
     "metadata": {
      "needs_background": "light"
     },
     "output_type": "display_data"
    }
   ],
   "source": [
    "plt.figure(figsize=(9,7))\n",
    "sns.scatterplot(data=data_cheese, \n",
    "                x=\"Topping\",\n",
    "                y=\"Pain Point\", \n",
    "                hue=\"cluster\",\n",
    "                palette=[\"red\",\"blue\"])"
   ]
  },
  {
   "cell_type": "code",
   "execution_count": 23,
   "metadata": {},
   "outputs": [
    {
     "data": {
      "text/plain": [
       "<AxesSubplot:xlabel='Topping', ylabel='Pain Point'>"
      ]
     },
     "execution_count": 23,
     "metadata": {},
     "output_type": "execute_result"
    },
    {
     "data": {
      "image/png": "[encoded data removed]",
      "text/plain": [
       "<Figure size 648x504 with 1 Axes>"
      ]
     },
     "metadata": {
      "needs_background": "light"
     },
     "output_type": "display_data"
    }
   ],
   "source": [
    "plt.figure(figsize=(9,7))\n",
    "sns.scatterplot(data=data_pineapple, \n",
    "                x=\"Topping\",\n",
    "                y=\"Pain Point\", \n",
    "                hue=\"cluster\",\n",
    "                palette=[\"red\",\"blue\",\"green\"])"
   ]
  },
  {
   "cell_type": "markdown",
   "metadata": {},
   "source": [
    "#### As shown in the above clusters, it looks like Starfire is 'safe' with most of the topping being pineapple, some it being pepperoni, and a very few amount of it being cheese. However, to truly verify 'safeness', we have to apply GMM to these clusters, and find out via a fitting of these GMM models which topping selection truly is the 'safest'. "
   ]
  },
  {
   "cell_type": "code",
   "execution_count": 30,
   "metadata": {},
   "outputs": [
    {
     "name": "stdout",
     "output_type": "stream",
     "text": [
      "[[0.81801706 4.02896282]\n",
      " [2.02582353 5.91965279]\n",
      " [2.28182951 3.83157864]]\n"
     ]
    }
   ],
   "source": [
    "# GMM for pepperoni topping for the pizza. \n",
    "gmm_pepperoni = GaussianMixture(3, \n",
    "                     covariance_type='full', \n",
    "                     random_state=0).fit(data_pepperoni[[\"Topping\",\"Pain Point\"]])\n",
    "\n",
    "# print out the means. \n",
    "print(gmm_pepperoni.means_)"
   ]
  },
  {
   "cell_type": "code",
   "execution_count": 31,
   "metadata": {},
   "outputs": [
    {
     "name": "stdout",
     "output_type": "stream",
     "text": [
      "[[ 7.67623133 -9.07652239]\n",
      " [ 3.31551054 -0.23964241]\n",
      " [ 5.57094442 -9.49939858]]\n"
     ]
    }
   ],
   "source": [
    "# GMM for cheese topping for the pizza. \n",
    "gmm_cheese = GaussianMixture(3, \n",
    "                     covariance_type='full', \n",
    "                     random_state=0).fit(data_cheese[[\"Topping\",\"Pain Point\"]])\n",
    "\n",
    "# print out the means. \n",
    "print(gmm_cheese.means_)"
   ]
  },
  {
   "cell_type": "code",
   "execution_count": 32,
   "metadata": {},
   "outputs": [
    {
     "name": "stdout",
     "output_type": "stream",
     "text": [
      "[[-7.55123756  3.25769534]\n",
      " [ 6.17738576  0.32458099]\n",
      " [-8.22529601 -2.62604041]]\n"
     ]
    }
   ],
   "source": [
    "# GMM for pineapple topping for the pizza. \n",
    "gmm_pineapple = GaussianMixture(3, \n",
    "                     covariance_type='full', \n",
    "                     random_state=0).fit(data_pineapple[[\"Topping\",\"Pain Point\"]])\n",
    "\n",
    "# print out the means. \n",
    "print(gmm_pineapple.means_)"
   ]
  },
  {
   "cell_type": "markdown",
   "metadata": {},
   "source": [
    "We can now apply Label Encoding to fit the model better and get a better prediction.\n",
    "#### In interest of time for the episode, BIC / AIC values will not be covered, but something that can be covered in a bonus Algos In 10 Episode, if time permits. The main focus for this problem is to get a 'better' fit for what type of safe toppings Starfire can choose for her Titans Pizza."
   ]
  },
  {
   "cell_type": "code",
   "execution_count": 33,
   "metadata": {},
   "outputs": [],
   "source": [
    "# Create the predicted data. \n",
    "labels_pepperoni = gmm_pepperoni.predict(data_pepperoni[[\"Topping\",\"Pain Point\"]])\n",
    "labels_cheese = gmm_cheese.predict(data_cheese[[\"Topping\",\"Pain Point\"]])\n",
    "labels_pineapple = gmm_pineapple.predict(data_pineapple[[\"Topping\",\"Pain Point\"]])"
   ]
  },
  {
   "cell_type": "code",
   "execution_count": 34,
   "metadata": {},
   "outputs": [],
   "source": [
    "# Set the labels with predicted data. \n",
    "data_pepperoni[[\"predicted_cluster_pepperoni\"]]=labels_pepperoni\n",
    "data_cheese[[\"predicted_cluster_cheese\"]]=labels_cheese\n",
    "data_pineapple[[\"predicted_cluster_pineapple\"]]=labels_pineapple "
   ]
  },
  {
   "cell_type": "code",
   "execution_count": 35,
   "metadata": {},
   "outputs": [
    {
     "data": {
      "text/plain": [
       "<AxesSubplot:xlabel='Topping', ylabel='Pain Point'>"
      ]
     },
     "execution_count": 35,
     "metadata": {},
     "output_type": "execute_result"
    },
    {
     "data": {
      "image/png": "[encoded data removed]",
      "text/plain": [
       "<Figure size 648x504 with 1 Axes>"
      ]
     },
     "metadata": {
      "needs_background": "light"
     },
     "output_type": "display_data"
    }
   ],
   "source": [
    "# Plot again, this time with predicted labels. \n",
    "# We this time combine all numbers of clusters together, because we are trying to compare them \n",
    "# via co-variance. \n",
    "\n",
    "plt.figure(figsize=(9,7))\n",
    "sns.scatterplot(data=data_pepperoni, \n",
    "                x=\"Topping\",\n",
    "                y=\"Pain Point\", \n",
    "                hue=\"predicted_cluster_pepperoni\",\n",
    "                palette=[\"red\",\"blue\",\"green\"])"
   ]
  },
  {
   "cell_type": "code",
   "execution_count": 36,
   "metadata": {},
   "outputs": [
    {
     "data": {
      "text/plain": [
       "<AxesSubplot:xlabel='Topping', ylabel='Pain Point'>"
      ]
     },
     "execution_count": 36,
     "metadata": {},
     "output_type": "execute_result"
    },
    {
     "data": {
      "image/png": "[encoded data removed]",
      "text/plain": [
       "<Figure size 648x504 with 1 Axes>"
      ]
     },
     "metadata": {
      "needs_background": "light"
     },
     "output_type": "display_data"
    }
   ],
   "source": [
    "plt.figure(figsize=(9,7))\n",
    "sns.scatterplot(data=data_cheese, \n",
    "                x=\"Topping\",\n",
    "                y=\"Pain Point\", \n",
    "                hue=\"predicted_cluster_cheese\",\n",
    "                palette=[\"red\",\"blue\",\"green\"])"
   ]
  },
  {
   "cell_type": "code",
   "execution_count": 37,
   "metadata": {},
   "outputs": [
    {
     "data": {
      "text/plain": [
       "<AxesSubplot:xlabel='Topping', ylabel='Pain Point'>"
      ]
     },
     "execution_count": 37,
     "metadata": {},
     "output_type": "execute_result"
    },
    {
     "data": {
      "image/png": "[encoded data removed]",
      "text/plain": [
       "<Figure size 648x504 with 1 Axes>"
      ]
     },
     "metadata": {
      "needs_background": "light"
     },
     "output_type": "display_data"
    }
   ],
   "source": [
    "plt.figure(figsize=(9,7))\n",
    "sns.scatterplot(data=data_pineapple, \n",
    "                x=\"Topping\",\n",
    "                y=\"Pain Point\", \n",
    "                hue=\"predicted_cluster_pineapple\",\n",
    "                palette=[\"red\",\"blue\",\"green\"])"
   ]
  },
  {
   "cell_type": "markdown",
   "metadata": {},
   "source": [
    "In conclusion, from the graphs above, we can tell the 'safest' choice for Starfire to avoid pain while eating her Titans Pizza would be to mostly have it be with pineapple, some cheese, and hardly, if at all, any pepperoni. \n",
    "\n",
    "Sounds strange, right? This prediction is different than what we had with the previous graphs. This is why it is very important to make proper predictions for labels and data and not to misunderstand what it means by a 'cluster' (a collection of data points that tell a trend, not the other way around) in the GMM distribution. \n",
    "\n",
    "Bonus episode would include some BIC (Bayesian Information Criterion) / AIC (Akaike Information Criterion) metrics, for end of 2021. "
   ]
  },
  {
   "cell_type": "code",
   "execution_count": null,
   "metadata": {},
   "outputs": [],
   "source": []
  }
 ],
 "metadata": {
  "kernelspec": {
   "display_name": "Python 3",
   "language": "python",
   "name": "python3"
  },
  "language_info": {
   "codemirror_mode": {
    "name": "ipython",
    "version": 3
   },
   "file_extension": ".py",
   "mimetype": "text/x-python",
   "name": "python",
   "nbconvert_exporter": "python",
   "pygments_lexer": "ipython3",
   "version": "3.9.1"
  }
 },
 "nbformat": 4,
 "nbformat_minor": 4
}
