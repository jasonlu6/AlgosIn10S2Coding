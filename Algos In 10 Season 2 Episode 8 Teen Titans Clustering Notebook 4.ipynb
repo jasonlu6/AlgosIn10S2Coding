{
 "cells": [
  {
   "cell_type": "markdown",
   "metadata": {},
   "source": [
    "### Problem Part D: Raven (Shady Centroids)"
   ]
  },
  {
   "cell_type": "markdown",
   "metadata": {},
   "source": [
    "As for Raven, Slade is trying to put reverse psychology to ‘trick’ her. \n",
    "\n",
    "Raven is suddenly waking up at Teen Titans HQ, and she is stuck in a circular room with 5 doors. Only one of them is the proper exit, the other is a room full of lasers, trap doors, and other dangerous things. \n",
    "\n",
    "Apply a centroid clustering algorithm to help Raven escape. \n",
    "\n",
    "Hint: See the Iris flower dataset clustering solution:\n",
    "\n",
    "https://www.kaggle.com/khotijahs1/k-means-clustering-of-iris-dataset"
   ]
  },
  {
   "cell_type": "code",
   "execution_count": 22,
   "metadata": {},
   "outputs": [],
   "source": [
    "# We will first begin by creating a dataframe with 5 elements. "
   ]
  },
  {
   "cell_type": "code",
   "execution_count": 23,
   "metadata": {},
   "outputs": [],
   "source": [
    "import pandas as pd\n",
    "import numpy as np\n",
    "import matplotlib.pyplot as plt \n",
    "import seaborn as sns\n",
    "from sklearn.cluster import KMeans \n",
    "from sklearn.metrics import silhouette_score\n",
    "from sklearn.preprocessing import MinMaxScaler"
   ]
  },
  {
   "cell_type": "code",
   "execution_count": 24,
   "metadata": {},
   "outputs": [
    {
     "name": "stdout",
     "output_type": "stream",
     "text": [
      "[100  98  42  77 101]\n"
     ]
    }
   ],
   "source": [
    "# Sample 5 x 1 array of the doors, similar setup to the Cyborg Problem Part B, except this time around, it is with randomly\n",
    "# generated numbers and not fixed values. \n",
    "\n",
    "doors = [[100],[98],[42],[77],[101]]\n",
    "\n",
    "# Convert it into a single array. \n",
    "doors_convert = [element for sublist in doors for element in sublist]\n",
    "# Convert to an np array here. \n",
    "\n",
    "doors_np = np.array(doors_convert)\n",
    "print(doors_np)"
   ]
  },
  {
   "cell_type": "code",
   "execution_count": 25,
   "metadata": {},
   "outputs": [
    {
     "data": {
      "text/html": [
       "<div>\n",
       "<style scoped>\n",
       "    .dataframe tbody tr th:only-of-type {\n",
       "        vertical-align: middle;\n",
       "    }\n",
       "\n",
       "    .dataframe tbody tr th {\n",
       "        vertical-align: top;\n",
       "    }\n",
       "\n",
       "    .dataframe thead th {\n",
       "        text-align: right;\n",
       "    }\n",
       "</style>\n",
       "<table border=\"1\" class=\"dataframe\">\n",
       "  <thead>\n",
       "    <tr style=\"text-align: right;\">\n",
       "      <th></th>\n",
       "      <th>0</th>\n",
       "    </tr>\n",
       "  </thead>\n",
       "  <tbody>\n",
       "    <tr>\n",
       "      <th>0</th>\n",
       "      <td>100</td>\n",
       "    </tr>\n",
       "    <tr>\n",
       "      <th>1</th>\n",
       "      <td>98</td>\n",
       "    </tr>\n",
       "    <tr>\n",
       "      <th>2</th>\n",
       "      <td>42</td>\n",
       "    </tr>\n",
       "    <tr>\n",
       "      <th>3</th>\n",
       "      <td>77</td>\n",
       "    </tr>\n",
       "    <tr>\n",
       "      <th>4</th>\n",
       "      <td>101</td>\n",
       "    </tr>\n",
       "  </tbody>\n",
       "</table>\n",
       "</div>"
      ],
      "text/plain": [
       "     0\n",
       "0  100\n",
       "1   98\n",
       "2   42\n",
       "3   77\n",
       "4  101"
      ]
     },
     "execution_count": 25,
     "metadata": {},
     "output_type": "execute_result"
    }
   ],
   "source": [
    "# Convert to data frame. \n",
    "doors_np_pd = pd.DataFrame(doors_np)\n",
    "doors_np_pd "
   ]
  },
  {
   "cell_type": "code",
   "execution_count": 26,
   "metadata": {},
   "outputs": [
    {
     "data": {
      "image/png": "[encoded data removed]",
      "text/plain": [
       "<Figure size 432x288 with 1 Axes>"
      ]
     },
     "metadata": {
      "needs_background": "light"
     },
     "output_type": "display_data"
    }
   ],
   "source": [
    "# Second PCA, given data.\n",
    "# We are given 5 features, for 5 doors. \n",
    "features = ['Door 1','Door 2','Door 3','Door 4','Door 5']\n",
    "n_samples  = 100\n",
    "n_features = sum(doors_np) * len(features)\n",
    "\n",
    "# Prep\n",
    "truth = np.empty(n_samples)\n",
    "data  = np.empty((n_samples, n_features))\n",
    "np.random.seed(42)\n",
    "\n",
    "# Generate\n",
    "for i,mu in enumerate(np.random.choice([0,1,2,3], n_samples, replace=True)):\n",
    "    truth[i]  = mu\n",
    "    data[i,:] = np.random.normal(loc=mu, scale=1.5, size=n_features)\n",
    "\n",
    "# Show\n",
    "plt.imshow(data, interpolation='none')\n",
    "plt.show()"
   ]
  },
  {
   "cell_type": "code",
   "execution_count": 27,
   "metadata": {},
   "outputs": [
    {
     "name": "stdout",
     "output_type": "stream",
     "text": [
      "[[92.66666667 92.33333333]\n",
      " [98.         42.        ]\n",
      " [42.         55.        ]]\n"
     ]
    },
    {
     "data": {
      "image/png": "[encoded data removed]",
      "text/plain": [
       "<Figure size 432x288 with 1 Axes>"
      ]
     },
     "metadata": {
      "needs_background": "light"
     },
     "output_type": "display_data"
    }
   ],
   "source": [
    "# Scatter plot, but this time around with centroids pointed out. \n",
    "# Source: https://pythonprogramminglanguage.com/kmeans-clustering-centroid/\n",
    "\n",
    "# Permutation of possible door numbers. \n",
    "x1 = np.array([100,98,42,77,101])\n",
    "# Another set of possible door numbers. \n",
    "x2 = np.array([77,42,55,97,103])\n",
    "\n",
    "# create new plot and data\n",
    "plt.plot()\n",
    "randomBars = np.array(list(zip(x1, x2))).reshape(len(x1), 2)\n",
    "colors = ['b', 'g', 'c']\n",
    "markers = ['o', 'v', 's']\n",
    "\n",
    "# KMeans algorithm \n",
    "K = 3\n",
    "kmeans_model = KMeans(n_clusters=K).fit(randomBars)\n",
    "\n",
    "print(kmeans_model.cluster_centers_)\n",
    "centers = np.array(kmeans_model.cluster_centers_)\n",
    "\n",
    "plt.plot()\n",
    "plt.title('k means centroids')\n",
    "\n",
    "for i, l in enumerate(kmeans_model.labels_):\n",
    "    plt.plot(x1[i], x2[i], color=colors[l], marker=markers[l],ls='None')\n",
    "    plt.xlim([0, 200])\n",
    "    plt.ylim([0, 200])\n",
    "\n",
    "plt.scatter(centers[:,0], centers[:,1], marker=\"x\", color='r')\n",
    "plt.show()"
   ]
  },
  {
   "cell_type": "markdown",
   "metadata": {},
   "source": [
    "So, now we apply some centroid calculation to determine the one door that Raven can choose and 'safely' escape this haunted circular room maze. "
   ]
  },
  {
   "cell_type": "code",
   "execution_count": 28,
   "metadata": {},
   "outputs": [
    {
     "name": "stdout",
     "output_type": "stream",
     "text": [
      "83.6\n",
      "74.8\n"
     ]
    }
   ],
   "source": [
    "# Source: https://stackoverflow.com/questions/23020659/fastest-way-to-calculate-the-centroid-of-a-set-of-coordinate\n",
    "# -tuples-in-python-wi\n",
    "\n",
    "def centroid_calc(arr):\n",
    "    length = arr.shape[0]\n",
    "    sum_x = np.sum(arr[:, 0])\n",
    "    sum_y = np.sum(arr[:, 1])\n",
    "    print(sum_x/length)\n",
    "    print(sum_y/length)\n",
    "\n",
    "centroid_calc(randomBars)"
   ]
  },
  {
   "cell_type": "code",
   "execution_count": 29,
   "metadata": {},
   "outputs": [
    {
     "name": "stdout",
     "output_type": "stream",
     "text": [
      "[83.6 74.8]\n"
     ]
    }
   ],
   "source": [
    "# We now can determine that the Raven can or cannot escape, by comparing the centroid value to the 'average'\n",
    "# of the given doors. \n",
    "\n",
    "avg_doors = sum(randomBars) / len(randomBars)\n",
    "print(avg_doors)"
   ]
  },
  {
   "cell_type": "code",
   "execution_count": 30,
   "metadata": {},
   "outputs": [
    {
     "name": "stdout",
     "output_type": "stream",
     "text": [
      "Door range for Raven to escape:  [83.6 74.8]\n"
     ]
    }
   ],
   "source": [
    "# Since they are the same, this means that Raven can escape from any door range from the given values. \n",
    "print(\"Door range for Raven to escape: \", avg_doors)"
   ]
  },
  {
   "cell_type": "markdown",
   "metadata": {},
   "source": [
    "Therefore, Raven can escape the circular maze and she avoids harm by going thru one of the 5 doors that has values labeled in the range between 75 and 83. "
   ]
  },
  {
   "cell_type": "code",
   "execution_count": null,
   "metadata": {},
   "outputs": [],
   "source": []
  }
 ],
 "metadata": {
  "kernelspec": {
   "display_name": "Python 3",
   "language": "python",
   "name": "python3"
  },
  "language_info": {
   "codemirror_mode": {
    "name": "ipython",
    "version": 3
   },
   "file_extension": ".py",
   "mimetype": "text/x-python",
   "name": "python",
   "nbconvert_exporter": "python",
   "pygments_lexer": "ipython3",
   "version": "3.9.1"
  }
 },
 "nbformat": 4,
 "nbformat_minor": 4
}
